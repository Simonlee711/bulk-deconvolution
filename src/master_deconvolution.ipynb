{
 "cells": [
  {
   "attachments": {},
   "cell_type": "markdown",
   "metadata": {},
   "source": [
    "# Cellular Deconvolution Notebook\n",
    "\n",
    "author: Simon Lee (slee@celsiustx.com)"
   ]
  },
  {
   "attachments": {},
   "cell_type": "markdown",
   "metadata": {},
   "source": [
    "You will need to install the following methods to properly use this notebook \n",
    "\n",
    "- [cellanneal](https://github.com/LiBuchauer/cellanneal)\n",
    "- [Kassandra](https://github.com/BostonGene/Kassandra)\n",
    "\n",
    "These repos can be cloned inside the \"source\" folder for usability. The structure below demonstrates what I mean:\n",
    "\n",
    "src</br>\n",
    "|_ cellanneal </br>\n",
    "|_ Kassandra </br>\n",
    "|_ master_deconvolution.ipynb</br>\n",
    "\n"
   ]
  },
  {
   "attachments": {},
   "cell_type": "markdown",
   "metadata": {},
   "source": [
    "# Table of Contents\n",
    "* [Motivation](#0)\n",
    "* [Imports & Loading functions](#1)\n",
    "* [cellanneal](#2)\n",
    "    * [GSE107572](#2_1)\n",
    "    * [GSE1479433](#2_2)\n",
    "* [Kassandra](#3)\n",
    "    * [GSE107572](#3_1)\n",
    "    * [GSE1479433](#3_2)\n",
    "* [SVR](#4)\n",
    "    * [GSE107572](#4_1)\n",
    "    * [GSE1479433](#4_2)\n",
    "\n"
   ]
  },
  {
   "attachments": {},
   "cell_type": "markdown",
   "metadata": {},
   "source": [
    "# Motivation <a class=\"anchor\" id=\"0\"></a>"
   ]
  },
  {
   "attachments": {},
   "cell_type": "markdown",
   "metadata": {},
   "source": [
    "Cellular deconvolution (also referred to as cell type composition or cell proportion estimation) refers to computational techniques aiming at estimating the proportions of different cell types in samples collected from a tissue. Over the past few years many methods have been implemented using a wide spread of machine learning methods which have been considered the \"State of the Art\". However based on the paper, [Clustering-independent estimation of cell abundances in bulk tissues using single-cell RNA-seq data](https://www.biorxiv.org/content/10.1101/2023.02.06.527318v1.full.pdf), we were able to learn that a lot of deconvolutions methods accuracy is highly driven on the gene expression signature which are typically required as input to estimate the cell proportions. Since then there have been more methods developed that don't require a gene signature set but require some form of single cell reference to infer the cellular proportions. Therefore this notebook takes a look at widely different methods found across the literature and provides an easy to use interface for the user. Part of the challenge when working with open source codebases is that reproducability becomes a lot of work because there may be missing files, classified datasets involving real patients, etc. Therefore this notebook's emphasis is really just to provide the user with everything they will need to be able to perform a proper benchmark of different deconvolution methods for themselves. In this repository you will find two datasets in the `\\data` folder, with the required paired bulk samples along with an othogonal flow cytometry matrix (\"ground truth) to benchmark on PBMC related datasets (`GSE107572, GSE1479433`). If you wou;d like to retrain these models from scratch, you will need to provide a training set with a gene signature set coming from the same tissue. For validation purposes some form of orthogonal qunaitifcation is required. If you are interested in including your own models, you are also free to do so by following the pipeline demonstarted of the three different methods seen in this notebook: **cellanneal (annealing/rank coefficients minimization function), Kassandra (Ligh Gradient Boosting Decision Tree Model), & SVR (support vector regression)**. "
   ]
  },
  {
   "attachments": {},
   "cell_type": "markdown",
   "metadata": {},
   "source": [
    "# TODO Update Notebook with new deconv"
   ]
  },
  {
   "attachments": {},
   "cell_type": "markdown",
   "metadata": {},
   "source": [
    "## Imports & Loading Functions <a class=\"anchor\" id=\"1\"></a>"
   ]
  },
  {
   "cell_type": "code",
   "execution_count": 1,
   "metadata": {},
   "outputs": [
    {
     "name": "stderr",
     "output_type": "stream",
     "text": [
      "/opt/conda/envs/celsius/lib/python3.9/site-packages/rpy2/robjects/pandas2ri.py:15: FutureWarning: pandas.core.index is deprecated and will be removed in a future version. The public classes are available in the top-level namespace.\n",
      "  from pandas.core.index import Index as PandasIndex\n"
     ]
    }
   ],
   "source": [
    "import pandas as pd\n",
    "import matplotlib.pyplot as plt\n",
    "import numpy as np\n",
    "import seaborn as sns\n",
    "import random\n",
    "\n",
    "\n",
    "# statistical tests\n",
    "from scipy.stats import pearsonr\n",
    "from sklearn.metrics import mean_absolute_error\n",
    "from sklearn.metrics import mean_squared_error as mse\n",
    "from sklearn.metrics import r2_score\n",
    "\n",
    "# stats & plot specific from .py files\n",
    "from plot import Plot\n",
    "from stats import statsTest\n",
    "from helper import flatten, gene_intersection\n",
    "import project_configs as project_configs\n",
    "from deconv import Deconvolution\n",
    "\n",
    "from tqdm import tqdm"
   ]
  },
  {
   "cell_type": "code",
   "execution_count": 2,
   "metadata": {},
   "outputs": [],
   "source": [
    "# plot parameters all coming from project.configurations\n",
    "plt.style.use(project_configs.style)\n",
    "plt.rcParams['font.family'] = project_configs.font_family\n",
    "plt.rcParams['font.serif'] = project_configs.font_serif\n",
    "plt.rcParams['font.monospace'] = project_configs.font_monospace\n",
    "plt.rcParams['font.size'] = project_configs.font_size\n",
    "plt.rcParams['axes.labelsize'] = project_configs.axes_label_size\n",
    "plt.rcParams['axes.labelweight'] = project_configs.axes_label_weight\n",
    "plt.rcParams['axes.titlesize'] = project_configs.axes_title_size\n",
    "plt.rcParams['xtick.labelsize'] = project_configs.xtick_label_size\n",
    "plt.rcParams['ytick.labelsize'] = project_configs.ytick_label_size\n",
    "plt.rcParams['legend.fontsize'] = project_configs.legend_font_size \n",
    "plt.rcParams['figure.titlesize'] = project_configs.figure_title_size\n",
    "plt.rcParams['image.cmap'] = project_configs.image_cmap \n",
    "plt.rcParams['image.interpolation'] = project_configs.image_interpolation \n",
    "plt.rcParams['figure.figsize'] = project_configs.figure_size\n",
    "plt.rcParams['axes.grid']=project_configs.axes_grid\n",
    "plt.rcParams['lines.linewidth'] = project_configs.lines_line_width\n",
    "plt.rcParams['lines.markersize'] = project_configs.lines_marker_size\n",
    "cells_p = project_configs.cells_p"
   ]
  },
  {
   "attachments": {},
   "cell_type": "markdown",
   "metadata": {},
   "source": [
    "### other helpful methods"
   ]
  },
  {
   "cell_type": "code",
   "execution_count": null,
   "metadata": {},
   "outputs": [],
   "source": [
    "def gene_sig_builder(df, ref):\n",
    "    '''\n",
    "    Gene Signature constructor\n",
    "    '''\n",
    "    "
   ]
  },
  {
   "attachments": {},
   "cell_type": "markdown",
   "metadata": {},
   "source": [
    "### Models Fitting"
   ]
  },
  {
   "cell_type": "code",
   "execution_count": 3,
   "metadata": {},
   "outputs": [],
   "source": [
    "signature = pd.read_csv('./cellanneal/example_data/sc_PBMC_gene_signature.csv',index_col=0)\n",
    "bulk = pd.read_csv('../data/GSE107572_expr.tsv.tar.gz',sep='\\t',index_col=0)\n",
    "cytof1 = pd.read_csv('../data/GSE107572_cytof.tsv.tar.gz', sep='\\t', index_col=0)\n",
    "bulk2 = pd.read_csv('../data/GSE1479433.tsv', sep='\\t', index_col=0)\n",
    "cytof2 = pd.read_csv('../data/GSE1479433_cytometry_df.tsv', sep='\\t', index_col=0)\n"
   ]
  },
  {
   "cell_type": "code",
   "execution_count": 4,
   "metadata": {},
   "outputs": [
    {
     "name": "stdout",
     "output_type": "stream",
     "text": [
      "12998 == 12998\n"
     ]
    }
   ],
   "source": [
    "signature_match, bulk_match = gene_intersection(signature, bulk)\n",
    "print(signature_match.shape[0],\"==\", bulk_match.shape[0])"
   ]
  },
  {
   "cell_type": "code",
   "execution_count": 5,
   "metadata": {},
   "outputs": [
    {
     "name": "stdout",
     "output_type": "stream",
     "text": [
      "Preparing Cell Anneal Model\n",
      "3862 highly variable genes identified in cell type\n",
      "        reference.\n",
      "\t1951 of these are within thresholds for sample SRR6337113\n",
      "\t1723 of these are within thresholds for sample SRR6337114\n",
      "\t2159 of these are within thresholds for sample SRR6337115\n",
      "\t2199 of these are within thresholds for sample SRR6337116\n",
      "\t1912 of these are within thresholds for sample SRR6337117\n",
      "\t1876 of these are within thresholds for sample SRR6337118\n",
      "\t1835 of these are within thresholds for sample SRR6337119\n",
      "\t1856 of these are within thresholds for sample SRR6337120\n",
      "\t1926 of these are within thresholds for sample SRR6337121\n",
      "3862 highly variable genes identified in cell type\n",
      "        reference.\n",
      "\t2475 of these are within thresholds for sample F0222\n",
      "\t2469 of these are within thresholds for sample F0223\n",
      "\t2507 of these are within thresholds for sample F0224\n",
      "\t2343 of these are within thresholds for sample F0229\n",
      "\t2477 of these are within thresholds for sample F0230\n",
      "\t2412 of these are within thresholds for sample F0231\n",
      "\t2129 of these are within thresholds for sample F0232\n",
      "\t2235 of these are within thresholds for sample F0274\n",
      "\t2293 of these are within thresholds for sample F0303\n",
      "\t2379 of these are within thresholds for sample F0304\n",
      "\t2272 of these are within thresholds for sample F0305\n",
      "\t2442 of these are within thresholds for sample F0306\n",
      "\t2307 of these are within thresholds for sample F0307\n",
      "\t2457 of these are within thresholds for sample F0308\n",
      "\t1809 of these are within thresholds for sample F0460\n",
      "\t2290 of these are within thresholds for sample F0462\n",
      "\t2282 of these are within thresholds for sample F0590\n",
      "\t2076 of these are within thresholds for sample F0591\n",
      "\t2331 of these are within thresholds for sample F0592\n",
      "\t2215 of these are within thresholds for sample F0594\n",
      "\t2278 of these are within thresholds for sample F0595\n",
      "\t2340 of these are within thresholds for sample F0596\n",
      "\t2389 of these are within thresholds for sample F0597\n",
      "\t2369 of these are within thresholds for sample F0598\n",
      "\t2298 of these are within thresholds for sample F0599\n",
      "\t2237 of these are within thresholds for sample F0600\n",
      "\t2265 of these are within thresholds for sample F0601\n",
      "\t2030 of these are within thresholds for sample F0602\n",
      "\t2242 of these are within thresholds for sample F0603\n",
      "\t2248 of these are within thresholds for sample F0604\n",
      "\t2317 of these are within thresholds for sample F0605\n",
      "\t2334 of these are within thresholds for sample F0606\n",
      "\t2327 of these are within thresholds for sample F0607\n",
      "\t2166 of these are within thresholds for sample F0617\n",
      "\t1866 of these are within thresholds for sample F0618\n",
      "\t2028 of these are within thresholds for sample F0619\n",
      "\t2132 of these are within thresholds for sample F0620\n",
      "\t2285 of these are within thresholds for sample F0621\n",
      "\t2341 of these are within thresholds for sample F0622\n",
      "\t2187 of these are within thresholds for sample F0623\n",
      "\t2187 of these are within thresholds for sample F0624\n",
      "\t2147 of these are within thresholds for sample F0626\n",
      "\t2350 of these are within thresholds for sample F0627\n",
      "\t2053 of these are within thresholds for sample F0628\n",
      "\t2025 of these are within thresholds for sample F0629\n",
      "Training Kassandra Model\n",
      "Checking normal cells expressions...\n",
      "Expressions OK\n",
      "Checking cancer cells expressions...\n",
      "Expressions OK\n",
      "============== L1 models ==============\n",
      "Generating mixes for B_cells model\n",
      "Fitting B_cells model\n",
      "Trained in:  2.5 sec.\n",
      "\n",
      "\n",
      "Generating mixes for CD27neg_Memory_B_cells model\n",
      "Fitting CD27neg_Memory_B_cells model\n",
      "Trained in:  6.2 sec.\n",
      "\n",
      "\n",
      "Generating mixes for CD4_T_cells model\n",
      "Fitting CD4_T_cells model\n",
      "Trained in:  4.0 sec.\n",
      "\n",
      "\n",
      "Generating mixes for CD57neg_Cytotoxic_NK_cells model\n",
      "Fitting CD57neg_Cytotoxic_NK_cells model\n",
      "Trained in:  6.3 sec.\n",
      "\n",
      "\n",
      "Generating mixes for CD57pos_Cytotoxic_NK_cells model\n",
      "Fitting CD57pos_Cytotoxic_NK_cells model\n",
      "Trained in:  5.0 sec.\n",
      "\n",
      "\n",
      "Generating mixes for CD8_T_cells model\n",
      "Fitting CD8_T_cells model\n",
      "Trained in:  3.8 sec.\n",
      "\n",
      "\n",
      "Generating mixes for CDC model\n",
      "Fitting CDC model\n",
      "Trained in:  7.2 sec.\n",
      "\n",
      "\n",
      "Generating mixes for Central_memory_CD8_T_cells model\n",
      "Fitting Central_memory_CD8_T_cells model\n",
      "Trained in:  9.1 sec.\n",
      "\n",
      "\n",
      "Generating mixes for Central_memory_T_helpers model\n",
      "Fitting Central_memory_T_helpers model\n",
      "Trained in:  8.6 sec.\n",
      "\n",
      "\n",
      "Generating mixes for Class_switched_memory_B_cells model\n",
      "Fitting Class_switched_memory_B_cells model\n",
      "Trained in:  10.1 sec.\n",
      "\n",
      "\n",
      "Generating mixes for Classical_monocytes model\n",
      "Fitting Classical_monocytes model\n",
      "Trained in:  8.8 sec.\n",
      "\n",
      "\n",
      "Generating mixes for Cytotoxic_NK_cells model\n",
      "Fitting Cytotoxic_NK_cells model\n",
      "Trained in:  5.5 sec.\n",
      "\n",
      "\n",
      "Generating mixes for Effector_memory_CD8_T_cells model\n",
      "Fitting Effector_memory_CD8_T_cells model\n",
      "Trained in:  10.4 sec.\n",
      "\n",
      "\n",
      "Generating mixes for Effector_memory_T_helpers model\n",
      "Fitting Effector_memory_T_helpers model\n",
      "Trained in:  8.3 sec.\n",
      "\n",
      "\n",
      "Generating mixes for Eosinophils model\n",
      "Fitting Eosinophils model\n",
      "Trained in:  2.9 sec.\n",
      "\n",
      "\n",
      "Generating mixes for Granulocytes model\n",
      "Fitting Granulocytes model\n",
      "Trained in:  1.4 sec.\n",
      "\n",
      "\n",
      "Generating mixes for Lymphoid_cells model\n",
      "Fitting Lymphoid_cells model\n",
      "Trained in:  3.0 sec.\n",
      "\n",
      "\n",
      "Generating mixes for Memory_CD8_T_cells model\n",
      "Fitting Memory_CD8_T_cells model\n",
      "Trained in:  8.4 sec.\n",
      "\n",
      "\n",
      "Generating mixes for Memory_T_helpers model\n",
      "Fitting Memory_T_helpers model\n",
      "Trained in:  8.1 sec.\n",
      "\n",
      "\n",
      "Generating mixes for Monocytes model\n",
      "Fitting Monocytes model\n",
      "Trained in:  8.2 sec.\n",
      "\n",
      "\n",
      "Generating mixes for Myeloid_cells model\n",
      "Fitting Myeloid_cells model\n",
      "Trained in:  9.7 sec.\n",
      "\n",
      "\n",
      "Generating mixes for NK_cells model\n",
      "Fitting NK_cells model\n",
      "Trained in:  32.5 sec.\n",
      "\n",
      "\n",
      "Generating mixes for Naive_B_cells model\n",
      "Fitting Naive_B_cells model\n",
      "Trained in:  5.9 sec.\n",
      "\n",
      "\n",
      "Generating mixes for Naive_CD8_T_cells model\n",
      "Fitting Naive_CD8_T_cells model\n",
      "Trained in:  5.9 sec.\n",
      "\n",
      "\n",
      "Generating mixes for Naive_T_helpers model\n",
      "Fitting Naive_T_helpers model\n",
      "Trained in:  7.2 sec.\n",
      "\n",
      "\n",
      "Generating mixes for Neutrophils model\n",
      "Fitting Neutrophils model\n",
      "Trained in:  3.5 sec.\n",
      "\n",
      "\n",
      "Generating mixes for Non_classical_monocytes model\n",
      "Fitting Non_classical_monocytes model\n",
      "Trained in:  5.3 sec.\n",
      "\n",
      "\n",
      "Generating mixes for Non_plasma_B_cells model\n",
      "Fitting Non_plasma_B_cells model\n",
      "Trained in:  7.5 sec.\n",
      "\n",
      "\n",
      "Generating mixes for Non_switched_memory_B_cells model\n",
      "Fitting Non_switched_memory_B_cells model\n",
      "Trained in:  8.5 sec.\n",
      "\n",
      "\n",
      "Generating mixes for PDC model\n",
      "Fitting PDC model\n",
      "Trained in:  3.0 sec.\n",
      "\n",
      "\n",
      "Generating mixes for Plasma_B_cells model\n",
      "Fitting Plasma_B_cells model\n",
      "Trained in:  1.7 sec.\n",
      "\n",
      "\n",
      "Generating mixes for Plasmablasts model\n",
      "Fitting Plasmablasts model\n",
      "Trained in:  7.8 sec.\n",
      "\n",
      "\n",
      "Generating mixes for Regulatory_NK_cells model\n",
      "Fitting Regulatory_NK_cells model\n",
      "Trained in:  5.7 sec.\n",
      "\n",
      "\n",
      "Generating mixes for TEMRA_CD8_T_cells model\n",
      "Fitting TEMRA_CD8_T_cells model\n",
      "Trained in:  7.3 sec.\n",
      "\n",
      "\n",
      "Generating mixes for TEMRA_T_helpers model\n",
      "Fitting TEMRA_T_helpers model\n",
      "Trained in:  4.8 sec.\n",
      "\n",
      "\n",
      "Generating mixes for T_cells model\n",
      "Fitting T_cells model\n",
      "Trained in:  7.1 sec.\n",
      "\n",
      "\n",
      "Generating mixes for Transitional_memory_CD8_T_cells model\n",
      "Fitting Transitional_memory_CD8_T_cells model\n",
      "Trained in:  8.1 sec.\n",
      "\n",
      "\n",
      "Generating mixes for Transitional_memory_T_helpers model\n",
      "Fitting Transitional_memory_T_helpers model\n",
      "Trained in:  8.7 sec.\n",
      "\n",
      "\n",
      "Generating mixes for Tregs model\n",
      "Fitting Tregs model\n",
      "Trained in:  6.7 sec.\n",
      "\n",
      "\n",
      "============== L2 models ==============\n",
      "Generating mixes for B_cells model\n",
      "Fitting B_cells model\n",
      "Trained in:  20.4 sec.\n",
      "\n",
      "\n",
      "Generating mixes for CD27neg_Memory_B_cells model\n",
      "Fitting CD27neg_Memory_B_cells model\n",
      "Trained in:  12.4 sec.\n",
      "\n",
      "\n",
      "Generating mixes for CD4_T_cells model\n",
      "Fitting CD4_T_cells model\n",
      "Trained in:  27.7 sec.\n",
      "\n",
      "\n",
      "Generating mixes for CD57neg_Cytotoxic_NK_cells model\n",
      "Fitting CD57neg_Cytotoxic_NK_cells model\n",
      "Trained in:  12.2 sec.\n",
      "\n",
      "\n",
      "Generating mixes for CD57pos_Cytotoxic_NK_cells model\n",
      "Fitting CD57pos_Cytotoxic_NK_cells model\n",
      "Trained in:  11.6 sec.\n",
      "\n",
      "\n",
      "Generating mixes for CD8_T_cells model\n",
      "Fitting CD8_T_cells model\n",
      "Trained in:  14.9 sec.\n",
      "\n",
      "\n",
      "Generating mixes for CDC model\n",
      "Fitting CDC model\n",
      "Trained in:  12.3 sec.\n",
      "\n",
      "\n",
      "Generating mixes for Central_memory_CD8_T_cells model\n",
      "Fitting Central_memory_CD8_T_cells model\n",
      "Trained in:  13.6 sec.\n",
      "\n",
      "\n",
      "Generating mixes for Central_memory_T_helpers model\n",
      "Fitting Central_memory_T_helpers model\n",
      "Trained in:  13.1 sec.\n",
      "\n",
      "\n",
      "Generating mixes for Class_switched_memory_B_cells model\n",
      "Fitting Class_switched_memory_B_cells model\n",
      "Trained in:  13.6 sec.\n",
      "\n",
      "\n",
      "Generating mixes for Classical_monocytes model\n",
      "Fitting Classical_monocytes model\n",
      "Trained in:  12.6 sec.\n",
      "\n",
      "\n",
      "Generating mixes for Cytotoxic_NK_cells model\n",
      "Fitting Cytotoxic_NK_cells model\n",
      "Trained in:  11.9 sec.\n",
      "\n",
      "\n",
      "Generating mixes for Effector_memory_CD8_T_cells model\n",
      "Fitting Effector_memory_CD8_T_cells model\n",
      "Trained in:  13.8 sec.\n",
      "\n",
      "\n",
      "Generating mixes for Effector_memory_T_helpers model\n",
      "Fitting Effector_memory_T_helpers model\n",
      "Trained in:  13.0 sec.\n",
      "\n",
      "\n",
      "Generating mixes for Eosinophils model\n",
      "Fitting Eosinophils model\n",
      "Trained in:  10.9 sec.\n",
      "\n",
      "\n",
      "Generating mixes for Granulocytes model\n",
      "Fitting Granulocytes model\n",
      "Trained in:  21.2 sec.\n",
      "\n",
      "\n",
      "Generating mixes for Lymphoid_cells model\n",
      "Fitting Lymphoid_cells model\n",
      "Trained in:  18.2 sec.\n",
      "\n",
      "\n",
      "Generating mixes for Memory_CD8_T_cells model\n",
      "Fitting Memory_CD8_T_cells model\n",
      "Trained in:  12.9 sec.\n",
      "\n",
      "\n",
      "Generating mixes for Memory_T_helpers model\n",
      "Fitting Memory_T_helpers model\n",
      "Trained in:  12.7 sec.\n",
      "\n",
      "\n",
      "Generating mixes for Monocytes model\n",
      "Fitting Monocytes model\n",
      "Trained in:  13.6 sec.\n",
      "\n",
      "\n",
      "Generating mixes for Myeloid_cells model\n",
      "Fitting Myeloid_cells model\n",
      "Trained in:  12.9 sec.\n",
      "\n",
      "\n",
      "Generating mixes for NK_cells model\n",
      "Fitting NK_cells model\n",
      "Trained in:  12.3 sec.\n",
      "\n",
      "\n",
      "Generating mixes for Naive_B_cells model\n",
      "Fitting Naive_B_cells model\n",
      "Trained in:  12.1 sec.\n",
      "\n",
      "\n",
      "Generating mixes for Naive_CD8_T_cells model\n",
      "Fitting Naive_CD8_T_cells model\n",
      "Trained in:  12.0 sec.\n",
      "\n",
      "\n",
      "Generating mixes for Naive_T_helpers model\n",
      "Fitting Naive_T_helpers model\n",
      "Trained in:  12.4 sec.\n",
      "\n",
      "\n",
      "Generating mixes for Neutrophils model\n",
      "Fitting Neutrophils model\n",
      "Trained in:  15.8 sec.\n",
      "\n",
      "\n",
      "Generating mixes for Non_classical_monocytes model\n",
      "Fitting Non_classical_monocytes model\n",
      "Trained in:  11.5 sec.\n",
      "\n",
      "\n",
      "Generating mixes for Non_plasma_B_cells model\n",
      "Fitting Non_plasma_B_cells model\n",
      "Trained in:  20.1 sec.\n",
      "\n",
      "\n",
      "Generating mixes for Non_switched_memory_B_cells model\n",
      "Fitting Non_switched_memory_B_cells model\n",
      "Trained in:  12.9 sec.\n",
      "\n",
      "\n",
      "Generating mixes for PDC model\n",
      "Fitting PDC model\n",
      "Trained in:  11.0 sec.\n",
      "\n",
      "\n",
      "Generating mixes for Plasma_B_cells model\n",
      "Fitting Plasma_B_cells model\n",
      "Trained in:  16.0 sec.\n",
      "\n",
      "\n",
      "Generating mixes for Plasmablasts model\n",
      "Fitting Plasmablasts model\n",
      "Trained in:  12.7 sec.\n",
      "\n",
      "\n",
      "Generating mixes for Regulatory_NK_cells model\n",
      "Fitting Regulatory_NK_cells model\n",
      "Trained in:  12.0 sec.\n",
      "\n",
      "\n",
      "Generating mixes for TEMRA_CD8_T_cells model\n",
      "Fitting TEMRA_CD8_T_cells model\n",
      "Trained in:  12.5 sec.\n",
      "\n",
      "\n",
      "Generating mixes for TEMRA_T_helpers model\n",
      "Fitting TEMRA_T_helpers model\n",
      "Trained in:  11.8 sec.\n",
      "\n",
      "\n",
      "Generating mixes for T_cells model\n",
      "Fitting T_cells model\n",
      "Trained in:  23.4 sec.\n",
      "\n",
      "\n",
      "Generating mixes for Transitional_memory_CD8_T_cells model\n",
      "Fitting Transitional_memory_CD8_T_cells model\n",
      "Trained in:  13.0 sec.\n",
      "\n",
      "\n",
      "Generating mixes for Transitional_memory_T_helpers model\n",
      "Fitting Transitional_memory_T_helpers model\n",
      "Trained in:  13.2 sec.\n",
      "\n",
      "\n",
      "Generating mixes for Tregs model\n",
      "Fitting Tregs model\n",
      "Trained in:  12.3 sec.\n",
      "\n",
      "\n",
      "Deconv model fitting done in: 827.1 sec.\n"
     ]
    }
   ],
   "source": [
    "# prepare training data\n",
    "training_data = [bulk, bulk2]\n",
    "\n",
    "# import models for training and fitting\n",
    "deconv = Deconvolution()\n",
    "models = deconv.train(signature, training_data)"
   ]
  },
  {
   "attachments": {},
   "cell_type": "markdown",
   "metadata": {},
   "source": [
    "**!!! The deconvolution takes pretty long depending on sample #'s... and methods (Cellanneal & SVR) take signifacnt time!!!**"
   ]
  },
  {
   "cell_type": "code",
   "execution_count": 6,
   "metadata": {},
   "outputs": [
    {
     "name": "stdout",
     "output_type": "stream",
     "text": [
      "Performing cellanneal deconvolution \n",
      "\n",
      "Deconvolving sample 1 of 9 (SRR6337113) ...\n",
      "Deconvolving sample 2 of 9 (SRR6337114) ...\n",
      "Deconvolving sample 3 of 9 (SRR6337115) ...\n",
      "Deconvolving sample 4 of 9 (SRR6337116) ...\n",
      "Deconvolving sample 5 of 9 (SRR6337117) ...\n",
      "Deconvolving sample 6 of 9 (SRR6337118) ...\n",
      "Deconvolving sample 7 of 9 (SRR6337119) ...\n",
      "Deconvolving sample 8 of 9 (SRR6337120) ...\n",
      "Deconvolving sample 9 of 9 (SRR6337121) ...\n",
      "Deconvolving sample 1 of 45 (F0222) ...\n",
      "Deconvolving sample 2 of 45 (F0223) ...\n",
      "Deconvolving sample 3 of 45 (F0224) ...\n",
      "Deconvolving sample 4 of 45 (F0229) ...\n",
      "Deconvolving sample 5 of 45 (F0230) ...\n",
      "Deconvolving sample 6 of 45 (F0231) ...\n",
      "Deconvolving sample 7 of 45 (F0232) ...\n",
      "Deconvolving sample 8 of 45 (F0274) ...\n",
      "Deconvolving sample 9 of 45 (F0303) ...\n",
      "Deconvolving sample 10 of 45 (F0304) ...\n",
      "Deconvolving sample 11 of 45 (F0305) ...\n",
      "Deconvolving sample 12 of 45 (F0306) ...\n",
      "Deconvolving sample 13 of 45 (F0307) ...\n",
      "Deconvolving sample 14 of 45 (F0308) ...\n",
      "Deconvolving sample 15 of 45 (F0460) ...\n",
      "Deconvolving sample 16 of 45 (F0462) ...\n",
      "Deconvolving sample 17 of 45 (F0590) ...\n",
      "Deconvolving sample 18 of 45 (F0591) ...\n",
      "Deconvolving sample 19 of 45 (F0592) ...\n",
      "Deconvolving sample 20 of 45 (F0594) ...\n",
      "Deconvolving sample 21 of 45 (F0595) ...\n",
      "Deconvolving sample 22 of 45 (F0596) ...\n",
      "Deconvolving sample 23 of 45 (F0597) ...\n",
      "Deconvolving sample 24 of 45 (F0598) ...\n",
      "Deconvolving sample 25 of 45 (F0599) ...\n",
      "Deconvolving sample 26 of 45 (F0600) ...\n",
      "Deconvolving sample 27 of 45 (F0601) ...\n",
      "Deconvolving sample 28 of 45 (F0602) ...\n",
      "Deconvolving sample 29 of 45 (F0603) ...\n",
      "Deconvolving sample 30 of 45 (F0604) ...\n",
      "Deconvolving sample 31 of 45 (F0605) ...\n",
      "Deconvolving sample 32 of 45 (F0606) ...\n",
      "Deconvolving sample 33 of 45 (F0607) ...\n",
      "Deconvolving sample 34 of 45 (F0617) ...\n",
      "Deconvolving sample 35 of 45 (F0618) ...\n",
      "Deconvolving sample 36 of 45 (F0619) ...\n",
      "Deconvolving sample 37 of 45 (F0620) ...\n",
      "Deconvolving sample 38 of 45 (F0621) ...\n",
      "Deconvolving sample 39 of 45 (F0622) ...\n",
      "Deconvolving sample 40 of 45 (F0623) ...\n",
      "Deconvolving sample 41 of 45 (F0624) ...\n",
      "Deconvolving sample 42 of 45 (F0626) ...\n",
      "Deconvolving sample 43 of 45 (F0627) ...\n",
      "Deconvolving sample 44 of 45 (F0628) ...\n",
      "Deconvolving sample 45 of 45 (F0629) ...\n",
      "performing Kassandra deconvolution\n",
      "Expressions OK\n",
      "Expressions OK\n",
      "Performing SVR deconvolution \n",
      " \n"
     ]
    },
    {
     "name": "stderr",
     "output_type": "stream",
     "text": [
      " 56%|█████▌    | 5/9 [21:08<16:42, 250.64s/it]"
     ]
    }
   ],
   "source": [
    "# prepare for fitting\n",
    "test_data = [signature, bulk, bulk2]\n",
    "predictions = deconv.deconvolution(models, test_data)"
   ]
  },
  {
   "attachments": {},
   "cell_type": "markdown",
   "metadata": {},
   "source": [
    "### Cellanneal <a class=\"anchor\" id=\"2\"></a>"
   ]
  },
  {
   "attachments": {},
   "cell_type": "markdown",
   "metadata": {},
   "source": [
    "## GSE107572 <a class=\"anchor\" id=\"2_1\"></a>"
   ]
  },
  {
   "attachments": {},
   "cell_type": "markdown",
   "metadata": {},
   "source": [
    "Multiply by 100 to get cell percentages not just units that add up to 1"
   ]
  },
  {
   "cell_type": "code",
   "execution_count": null,
   "metadata": {},
   "outputs": [],
   "source": [
    "# plotting object\n",
    "plotter = Plot()"
   ]
  },
  {
   "cell_type": "code",
   "execution_count": null,
   "metadata": {},
   "outputs": [],
   "source": [
    "plotter.stack_plot(ca_preds_100)\n",
    "plotter.heat_map(ca_preds_100)"
   ]
  },
  {
   "attachments": {},
   "cell_type": "markdown",
   "metadata": {},
   "source": [
    "need the columns to match names to get the correlation plots"
   ]
  },
  {
   "cell_type": "code",
   "execution_count": null,
   "metadata": {},
   "outputs": [],
   "source": [
    "ca_preds_100"
   ]
  },
  {
   "cell_type": "code",
   "execution_count": null,
   "metadata": {},
   "outputs": [],
   "source": [
    "# renaming columns to match cytof \"ground truth\" data\n",
    "ca_preds_copy = ca_preds_100.T.copy()\n",
    "ca_preds_copy.loc['B_cells'] = ca_preds_copy.loc[['B', 'B-naive']].sum()\n",
    "ca_preds_copy.loc['CD4_T_cells'] = ca_preds_copy.loc[['CD4', 'CD4-naive']].sum()\n",
    "ca_preds_copy.loc['CD8_T_cells'] = ca_preds_copy.loc[['CD8']].sum()\n",
    "ca_preds_copy.loc['NK_cells'] = ca_preds_copy.loc[['NK']].sum()\n",
    "ca_preds_copy.loc['Tregs'] = ca_preds_copy.loc[['Treg']].sum()\n",
    "ca_preds_copy.loc['T_cells'] = ca_preds_copy.loc[['CD8_T_cells', 'CD4_T_cells', 'Tregs', 'T_undef']].sum()\n",
    "ca_preds_copy.loc['Lymphocytes'] = ca_preds_copy.loc[['B_cells', 'T_cells', 'NK_cells']].sum()"
   ]
  },
  {
   "cell_type": "code",
   "execution_count": null,
   "metadata": {},
   "outputs": [],
   "source": [
    "cytof1 = pd.read_csv('../data/GSE107572_cytof.tsv.tar.gz', sep='\\t', index_col=0)"
   ]
  },
  {
   "cell_type": "code",
   "execution_count": null,
   "metadata": {},
   "outputs": [],
   "source": [
    "plotter.plot_cell(ca_preds_copy, cytof1, pallete=cells_p)"
   ]
  },
  {
   "attachments": {},
   "cell_type": "markdown",
   "metadata": {},
   "source": [
    "#### The statsTest class takes the statistics of the whole mixture"
   ]
  },
  {
   "cell_type": "code",
   "execution_count": null,
   "metadata": {},
   "outputs": [],
   "source": [
    "title = 'GSE107572'\n",
    "plotter.plot_whole(ca_preds_copy, cytof1, pallete = cells_p, title=title, stat=True)"
   ]
  },
  {
   "cell_type": "code",
   "execution_count": null,
   "metadata": {},
   "outputs": [],
   "source": [
    "plotter.bland_altman(ca_preds_copy, cytof1, pallete = cells_p)"
   ]
  },
  {
   "cell_type": "code",
   "execution_count": null,
   "metadata": {},
   "outputs": [],
   "source": [
    "# get a color pallete for color samples\n",
    "ind_names = ca_preds_100.index.intersection(cytof1.index)\n",
    "sample_color = plotter.get_cmap(len(ind_names))\n"
   ]
  },
  {
   "cell_type": "code",
   "execution_count": null,
   "metadata": {},
   "outputs": [],
   "source": [
    "plotter.plot_sample(ca_preds_copy, cytof1, pallete = sample_color)"
   ]
  },
  {
   "cell_type": "code",
   "execution_count": null,
   "metadata": {},
   "outputs": [],
   "source": [
    "plotter.bland_altman_v2(ca_preds_copy, cytof1, pallete = sample_color)"
   ]
  },
  {
   "attachments": {},
   "cell_type": "markdown",
   "metadata": {},
   "source": [
    "## GSE1479433 <a class=\"anchor\" id=\"2_2\"></a>"
   ]
  },
  {
   "cell_type": "code",
   "execution_count": null,
   "metadata": {},
   "outputs": [],
   "source": [
    "title = 'GSE1479433'\n",
    "bulk2 = pd.read_csv('../data/GSE1479433.tsv', sep='\\t', index_col=0)\n",
    "cytof2 = pd.read_csv('../data/GSE1479433_cytometry_df.tsv', sep='\\t', index_col=0)"
   ]
  },
  {
   "cell_type": "code",
   "execution_count": null,
   "metadata": {},
   "outputs": [],
   "source": [
    "plotter.stack_plot(ca_preds2_100)\n",
    "plotter.heat_map(ca_preds2_100)"
   ]
  },
  {
   "cell_type": "code",
   "execution_count": null,
   "metadata": {},
   "outputs": [],
   "source": [
    "# renaming columns to match cytof \"ground truth\" data\n",
    "ca_preds_copy2 = ca_preds2_100.T.copy()\n",
    "ca_preds_copy2.loc['T_cells'] = ca_preds_copy2.loc[['CD8_T_cells', 'CD4_T_cells', 'Tregs']].sum()\n",
    "ca_preds_copy2.loc['Lymphocytes'] = ca_preds_copy2.loc[['B_cells', 'T_cells', 'NK_cells']].sum()"
   ]
  },
  {
   "cell_type": "code",
   "execution_count": null,
   "metadata": {},
   "outputs": [],
   "source": [
    "flatten(ca_preds_copy2, cytof2)"
   ]
  },
  {
   "cell_type": "code",
   "execution_count": null,
   "metadata": {},
   "outputs": [],
   "source": [
    "plotter.plot_cell(ca_preds_copy2, cytof2, pallete=cells_p)"
   ]
  },
  {
   "cell_type": "code",
   "execution_count": null,
   "metadata": {},
   "outputs": [],
   "source": [
    "plotter.plot_whole(ca_preds_copy2, cytof2, pallete = cells_p, title=title, stat=True)"
   ]
  },
  {
   "attachments": {},
   "cell_type": "markdown",
   "metadata": {},
   "source": [
    "these results make sense as alot of cell subtypes are being incorrectly identified compared to the CyTOF data"
   ]
  },
  {
   "cell_type": "code",
   "execution_count": null,
   "metadata": {},
   "outputs": [],
   "source": [
    "plotter.bland_altman(ca_preds_copy2, cytof2, pallete = cells_p)"
   ]
  },
  {
   "attachments": {},
   "cell_type": "markdown",
   "metadata": {},
   "source": [
    "## Kassandra <a class=\"anchor\" id=\"3\"></a>"
   ]
  },
  {
   "attachments": {},
   "cell_type": "markdown",
   "metadata": {},
   "source": [
    "## GSE107572 <a class=\"anchor\" id=\"3_1\"></a>"
   ]
  },
  {
   "cell_type": "code",
   "execution_count": null,
   "metadata": {},
   "outputs": [],
   "source": [
    "k_preds = model.predict(bulk) \n",
    "k_preds.loc['Lymphocytes'] = k_preds.loc[['B_cells', 'T_cells', 'NK_cells']].sum()\n",
    "k_preds_100 = k_preds * 100\n",
    "\n",
    "# drop parent nodes so we can plot child nodes stack plots\n",
    "parent_nodes = ['Non_plasma_B_cells', 'Monocytes', 'Granulocytes', 'B_cells', 'T_cells', 'NK_cells', 'Myeloid_cells', 'Lymphoid_cells', 'Lymphocytes', 'CD8_T_cells', 'Cytotoxic_NK_cells', 'CD4_T_cells', 'Memory_T_helpers', 'Memory_CD8_T_cells']\n",
    "k_preds_child = k_preds_100.drop(parent_nodes)"
   ]
  },
  {
   "cell_type": "code",
   "execution_count": null,
   "metadata": {},
   "outputs": [],
   "source": [
    "# cell proportion plots\n",
    "plotter.stack_plot(k_preds_child.T)\n",
    "plotter.heat_map(k_preds_child.T)"
   ]
  },
  {
   "cell_type": "code",
   "execution_count": null,
   "metadata": {},
   "outputs": [],
   "source": [
    "# check for intersections\n",
    "flatten(k_preds_100, cytof1)"
   ]
  },
  {
   "cell_type": "code",
   "execution_count": null,
   "metadata": {},
   "outputs": [],
   "source": [
    "plotter.corr_plot(k_preds_100, cytof1, pallete=cells_p)"
   ]
  },
  {
   "cell_type": "code",
   "execution_count": null,
   "metadata": {},
   "outputs": [],
   "source": [
    "plotter.print_cell_whole(k_preds_100, cytof1, pallete = cells_p, title=title, stat=True)"
   ]
  },
  {
   "cell_type": "code",
   "execution_count": null,
   "metadata": {},
   "outputs": [],
   "source": [
    "plotter.bland_altman(k_preds_100, cytof1, pallete = cells_p)"
   ]
  },
  {
   "cell_type": "code",
   "execution_count": null,
   "metadata": {},
   "outputs": [],
   "source": [
    "# get a color pallete for color samples\n",
    "ind_names = k_preds_100.index.intersection(cytof1.index)\n",
    "sample_color = plotter.get_cmap(len(ind_names))\n",
    "plotter.plot_sample(k_preds_100, cytof1, pallete = sample_color)\n",
    "plotter.bland_altman_v2(k_preds_100, cytof1, pallete = sample_color)"
   ]
  },
  {
   "attachments": {},
   "cell_type": "markdown",
   "metadata": {},
   "source": [
    "## GSE1479433 <a class=\"anchor\" id=\"3_2\"></a>"
   ]
  },
  {
   "cell_type": "code",
   "execution_count": null,
   "metadata": {},
   "outputs": [],
   "source": [
    "k_preds2 = model.predict(bulk2) \n",
    "k_preds2.loc['Lymphocytes'] = k_preds2.loc[['B_cells', 'T_cells', 'NK_cells']].sum()\n",
    "k_preds2_100 = k_preds2 * 100\n",
    "\n",
    "# drop parent nodes so we can plot child nodes stack plots\n",
    "parent_nodes = ['Non_plasma_B_cells', 'Monocytes', 'Granulocytes', 'B_cells', 'T_cells', 'NK_cells', 'Myeloid_cells', 'Lymphoid_cells', 'Lymphocytes', 'CD8_T_cells', 'Cytotoxic_NK_cells', 'CD4_T_cells', 'Memory_T_helpers', 'Memory_CD8_T_cells']\n",
    "k_preds2_child = k_preds2_100.drop(parent_nodes)"
   ]
  },
  {
   "cell_type": "code",
   "execution_count": null,
   "metadata": {},
   "outputs": [],
   "source": [
    "# cell proportion plots\n",
    "plotter.stack_plot(k_preds2_child.T)\n",
    "plotter.heat_map(k_preds2_child.T)"
   ]
  },
  {
   "cell_type": "code",
   "execution_count": null,
   "metadata": {},
   "outputs": [],
   "source": [
    "# check for intersections\n",
    "flatten(k_preds2_100, cytof2)"
   ]
  },
  {
   "cell_type": "code",
   "execution_count": null,
   "metadata": {},
   "outputs": [],
   "source": [
    "plotter.corr_plot(k_preds2_100, cytof2, pallete=cells_p)"
   ]
  },
  {
   "cell_type": "code",
   "execution_count": null,
   "metadata": {},
   "outputs": [],
   "source": [
    "plotter.print_cell_whole(k_preds2_100, cytof2, pallete = cells_p, title=title, stat=True)"
   ]
  },
  {
   "cell_type": "code",
   "execution_count": null,
   "metadata": {},
   "outputs": [],
   "source": [
    "plotter.bland_altman(k_preds2_100, cytof2, pallete = cells_p)"
   ]
  },
  {
   "cell_type": "code",
   "execution_count": null,
   "metadata": {},
   "outputs": [],
   "source": [
    "# get a color pallete for color samples\n",
    "ind_names = k_preds2_100.index.intersection(cytof2.index)\n",
    "sample_color = plotter.get_cmap(len(ind_names))\n",
    "plotter.plot_sample(k_preds2_100, cytof2, pallete = sample_color, specific_col='F0598')\n",
    "plotter.bland_altman_v2(k_preds2_100, cytof2, pallete = sample_color,specific_col='F0598')"
   ]
  },
  {
   "attachments": {},
   "cell_type": "markdown",
   "metadata": {},
   "source": [
    "## SVR<a class=\"anchor\" id=\"4\"></a>"
   ]
  },
  {
   "cell_type": "code",
   "execution_count": null,
   "metadata": {},
   "outputs": [],
   "source": [
    "signature = pd.read_csv('./cellanneal/example_data/sc_PBMC_gene_mean_signature.csv',index_col=0)\n",
    "bulk2 = pd.read_csv('../data/GSE107572_expr.tsv.tar.gz',sep='\\t',index_col=0)\n",
    "bulk = pd.read_csv('../data/GSE1479433.tsv', sep='\\t', index_col=0)"
   ]
  },
  {
   "cell_type": "code",
   "execution_count": null,
   "metadata": {},
   "outputs": [],
   "source": [
    "set1 = set(bulk.index)\n",
    "set2 = set(bulk2.index)\n",
    "set3 = set(signature.index)\n",
    "intersection = (set1.intersection(set2)).intersection(set3)\n",
    "inter = list(intersection)"
   ]
  },
  {
   "cell_type": "code",
   "execution_count": null,
   "metadata": {},
   "outputs": [],
   "source": [
    "signature = signature.filter(items=inter,axis=0)\n",
    "bulk = bulk.filter(items=inter,axis=0)\n",
    "bulk2 = bulk2.filter(items=inter,axis=0)"
   ]
  },
  {
   "cell_type": "code",
   "execution_count": null,
   "metadata": {},
   "outputs": [],
   "source": [
    "print(signature.shape, bulk.shape, bulk2.shape)"
   ]
  },
  {
   "cell_type": "code",
   "execution_count": null,
   "metadata": {},
   "outputs": [],
   "source": [
    "scaler = StandardScaler()\n",
    "  \n",
    "# transform data\n",
    "train  = scaler.fit_transform(signature)\n",
    "test_data = scaler.fit_transform(bulk2)\n",
    "ind = bulk2.columns"
   ]
  },
  {
   "attachments": {},
   "cell_type": "markdown",
   "metadata": {},
   "source": [
    "## GSE107572 <a class=\"anchor\" id=\"4_1\"></a>"
   ]
  },
  {
   "cell_type": "code",
   "execution_count": null,
   "metadata": {},
   "outputs": [],
   "source": [
    "genes = bulk.index\n",
    "ind = bulk2.columns\n",
    "Nus=[0.25, 0.5, 0.75]\n",
    "\n",
    "SVRcoef = np.zeros((signature.shape[1], bulk2.shape[1]))\n",
    "Selcoef = np.zeros((bulk.shape[0], bulk2.shape[1]))\n",
    "\n",
    "for i in tqdm(range(bulk2.shape[1])):\n",
    "    sols = [NuSVR(kernel='linear', nu=nu).fit(train,test_data[:,i]) for nu in Nus]\n",
    "    im_name = signature.columns\n",
    "    RMSE = [mse(sol.predict(train), test_data[:,i]) for sol in sols]\n",
    "    Selcoef[sols[np.argmin(RMSE)].support_, i] = 1\n",
    "    SVRcoef[:,i] = np.maximum(sols[np.argmin(RMSE)].coef_,0)\n",
    "    SVRcoef[:,i] = SVRcoef[:,i]/np.sum(SVRcoef[:,i])\n",
    "svr_preds = pd.DataFrame(SVRcoef,index=im_name, columns=ind)\n",
    "svr_preds = svr_preds.reindex(sorted(svr_preds.columns), axis=1)\n",
    "svr_preds"
   ]
  },
  {
   "cell_type": "code",
   "execution_count": null,
   "metadata": {},
   "outputs": [],
   "source": [
    "svr_preds_100 = svr_preds * 100"
   ]
  },
  {
   "cell_type": "code",
   "execution_count": null,
   "metadata": {},
   "outputs": [],
   "source": [
    "svr_preds_copy = svr_preds_100.copy()\n",
    "svr_preds_copy.loc['B_cells'] = svr_preds_copy.loc[['B', 'B-naive']].sum()\n",
    "svr_preds_copy.loc['CD4_T_cells'] = svr_preds_copy.loc[['CD4', 'CD4-naive']].sum()\n",
    "svr_preds_copy.loc['CD8_T_cells'] = svr_preds_copy.loc[['CD8']].sum()\n",
    "svr_preds_copy.loc['NK_cells'] = svr_preds_copy.loc[['NK']].sum()\n",
    "svr_preds_copy.loc['Tregs'] = svr_preds_copy.loc[['Treg']].sum()\n",
    "svr_preds_copy.loc['T_cells'] = svr_preds_copy.loc[['CD8_T_cells', 'CD4_T_cells', 'Tregs', 'T_undef']].sum()\n",
    "svr_preds_copy.loc['Lymphocytes'] = svr_preds_copy.loc[['B_cells', 'T_cells', 'NK_cells']].sum()"
   ]
  },
  {
   "cell_type": "code",
   "execution_count": null,
   "metadata": {},
   "outputs": [],
   "source": [
    "svr_preds_copy"
   ]
  },
  {
   "cell_type": "code",
   "execution_count": null,
   "metadata": {},
   "outputs": [],
   "source": [
    "flatten(svr_preds_copy, cytof1)"
   ]
  },
  {
   "cell_type": "code",
   "execution_count": null,
   "metadata": {},
   "outputs": [],
   "source": [
    "plotter.corr_plot(svr_preds_copy, cytof1, pallete=cells_p)"
   ]
  },
  {
   "cell_type": "code",
   "execution_count": null,
   "metadata": {},
   "outputs": [],
   "source": [
    "title = 'GSE107572'\n",
    "plotter.print_cell_whole(svr_preds_copy, cytof1, pallete = cells_p, title=title, stat=True)"
   ]
  },
  {
   "cell_type": "code",
   "execution_count": null,
   "metadata": {},
   "outputs": [],
   "source": [
    "plotter.bland_altman(svr_preds_copy, cytof1, pallete = cells_p)"
   ]
  },
  {
   "attachments": {},
   "cell_type": "markdown",
   "metadata": {},
   "source": [
    "## GSE1479433 <a class=\"anchor\" id=\"4_2\"></a>"
   ]
  },
  {
   "cell_type": "code",
   "execution_count": null,
   "metadata": {},
   "outputs": [],
   "source": [
    "scaler = StandardScaler()\n",
    "  \n",
    "# transform data\n",
    "train  = scaler.fit_transform(signature)\n",
    "test_data = scaler.fit_transform(bulk)\n",
    "ind = bulk.columns"
   ]
  },
  {
   "cell_type": "code",
   "execution_count": null,
   "metadata": {},
   "outputs": [],
   "source": [
    "test_data"
   ]
  },
  {
   "cell_type": "code",
   "execution_count": null,
   "metadata": {},
   "outputs": [],
   "source": [
    "genes = bulk.index\n",
    "ind = bulk.columns\n",
    "Nus=[0.5]\n",
    "\n",
    "SVRcoef = np.zeros((signature.shape[1], bulk.shape[1]))\n",
    "Selcoef = np.zeros((bulk.shape[0], bulk.shape[1]))\n",
    "\n",
    "for i in tqdm(range(bulk.shape[1])):\n",
    "    sols = [NuSVR(kernel='linear', nu=nu).fit(train,test_data[:,i]) for nu in Nus]\n",
    "    im_name = signature.columns\n",
    "    RMSE = [mse(sol.predict(train), test_data[:,i]) for sol in sols]\n",
    "    Selcoef[sols[np.argmin(RMSE)].support_, i] = 1\n",
    "    SVRcoef[:,i] = np.maximum(sols[np.argmin(RMSE)].coef_,0)\n",
    "    SVRcoef[:,i] = SVRcoef[:,i]/np.sum(SVRcoef[:,i])\n",
    "svr_preds_2 = pd.DataFrame(SVRcoef,index=im_name, columns=ind)\n",
    "svr_preds_2 = svr_preds.reindex(sorted(svr_preds.columns), axis=1)\n",
    "svr_preds_2"
   ]
  },
  {
   "cell_type": "code",
   "execution_count": null,
   "metadata": {},
   "outputs": [],
   "source": [
    "svr_preds2_100 = svr_preds_2 * 100\n",
    "svr_preds_copy2 = svr_preds2_100.copy()\n",
    "svr_preds_copy2.loc['B_cells'] = svr_preds_copy2.loc[['B', 'B-naive']].sum()\n",
    "svr_preds_copy2.loc['CD4_T_cells'] = svr_preds_copy2.loc[['CD4', 'CD4-naive']].sum()\n",
    "svr_preds_copy2.loc['CD8_T_cells'] = svr_preds_copy2.loc[['CD8']].sum()\n",
    "svr_preds_copy2.loc['NK_cells'] = svr_preds_copy2.loc[['NK']].sum()\n",
    "svr_preds_copy2.loc['Tregs'] = svr_preds_copy2.loc[['Treg']].sum()\n",
    "svr_preds_copy2.loc['T_cells'] = svr_preds_copy2.loc[['CD8_T_cells', 'CD4_T_cells', 'Tregs', 'T_undef']].sum()\n",
    "svr_preds_copy2.loc['Lymphocytes'] = svr_preds_copy2.loc[['B_cells', 'T_cells', 'NK_cells']].sum()\n"
   ]
  },
  {
   "attachments": {},
   "cell_type": "markdown",
   "metadata": {},
   "source": [
    "# Methods to score which method performed the best"
   ]
  },
  {
   "attachments": {},
   "cell_type": "markdown",
   "metadata": {},
   "source": [
    "#### TODO\n",
    "- Takes the difference, of true and predicted between cell types. The most with the lowest difference wins\n",
    "- Make benchmarking plot that takes in a list of dataframes as input, takes the RMSE & Pearson between every sample and forms a plot where each datapoint is the RMSE and corrlation."
   ]
  },
  {
   "cell_type": "code",
   "execution_count": null,
   "metadata": {},
   "outputs": [],
   "source": [
    "def benchmark_rmse(df_list, cytof, name_list):\n",
    "\n",
    "    df_final = pd.DataFrame()\n",
    "    length = 999\n",
    "    for i, df in enumerate(df_list):\n",
    "        ind_names = df.dropna().index.intersection(cytof.dropna().index)\n",
    "        col_names = df.dropna().columns.intersection(cytof.dropna().columns)\n",
    "        predicted_values = df.loc[ind_names, col_names]\n",
    "        true_values = cytof.loc[ind_names, col_names]\n",
    "        predicted_values = predicted_values.T\n",
    "        true_values = true_values.T\n",
    "        cells = true_values.columns\n",
    "        stat = statsTest()\n",
    "\n",
    "        temp2 = predicted_values.shape[1]\n",
    "        if temp2 < length:\n",
    "            length = temp2\n",
    "\n",
    "        rmse_list = []\n",
    "        for x, cell in enumerate(cells):\n",
    "            val = stat.rmse(predicted_values[cell], true_values[cell])\n",
    "            rmse_list.append(val)\n",
    "        rmse_list = rmse_list[0:length]\n",
    "        df_final[name_list[i]] = rmse_list\n",
    "        if i == 0:\n",
    "            index_name = predicted_values.columns\n",
    "            df_final.index = index_name\n",
    "    \n",
    "    sns.lineplot(data=df_final)\n",
    "    sns.scatterplot(data=df_final, legend=False)\n",
    "    plt.xlabel(\"Cell Types\")\n",
    "    plt.ylabel(\"RMSE\")\n",
    "    plt.title(\"RMSE across different Methods at Cell type level\")\n",
    "            \n",
    "\n",
    "def benchmark_correlation(df_list, cytof, name_list):\n",
    "    df_final = pd.DataFrame()\n",
    "    length = 999\n",
    "    for i, df in enumerate(df_list):\n",
    "        ind_names = df.index.intersection(cytof.index)\n",
    "        col_names = df.columns.intersection(cytof.columns)\n",
    "        predicted_values = df.loc[ind_names, col_names]\n",
    "        true_values = cytof.loc[ind_names, col_names].astype(float)\n",
    "        predicted_values = predicted_values.T\n",
    "        true_values = true_values.T\n",
    "        cells = true_values.columns\n",
    "        stat = statsTest()\n",
    "\n",
    "        temp2 = predicted_values.shape[1]\n",
    "        if temp2 < length:\n",
    "            length = temp2\n",
    "\n",
    "        r_list = []\n",
    "        for cell in cells:\n",
    "            val = stat.correlation(predicted_values[cell], true_values[cell])\n",
    "            r_list.append(val)\n",
    "        r_list = r_list[0:length]\n",
    "        df_final[name_list[i]] = r_list\n",
    "        if i == 0:\n",
    "            index_name = predicted_values.columns\n",
    "            df_final.index = index_name\n",
    "    \n",
    "    display(df_final)\n",
    "    \n",
    "    #sns.lineplot(data=df_final)\n",
    "    # sns.scatterplot(data=df_final, x='ind', y='cellanneal', legend=False)\n",
    "    # sns.scatterplot(data=df_final, x='ind', y='Kassandra', legend=False)\n",
    "    # sns.scatterplot(data=df_final, x='ind', y='SVR', legend=False)\n",
    "    sns.lineplot(data=df_final)\n",
    "    # sns.lineplot(data=df_final['cellanneal'])\n",
    "    # sns.lineplot(data=df_final['Kassandra'], style='-')\n",
    "    # sns.lineplot(data=df_final['SVR'], style= '.')\n",
    "    #plt.ylim([-1, 1])\n",
    "    plt.xlabel(\"Cell Types\")\n",
    "    plt.ylabel(\"Pearson Correlation (r)\")\n",
    "    plt.title(\"Pearson Correlation across different Methods at Cell type level\")\n",
    "\n",
    "def correlation_matrix(predicted, true):\n",
    "    ind_names = predicted.index.intersection(true.index)\n",
    "    col_names = predicted.columns.intersection(true.columns)\n",
    "    predicted_values = predicted.loc[ind_names, col_names]\n",
    "    true_values = true.loc[ind_names, col_names]\n",
    "    true_values = true_values.add_suffix('_x')\n",
    "    result = predicted_values.corrwith(true_values, axis = 0)\n",
    "    display(result)\n",
    "\n",
    "    "
   ]
  },
  {
   "cell_type": "code",
   "execution_count": null,
   "metadata": {},
   "outputs": [],
   "source": [
    "df_list = [ca_preds_copy, k_preds_100, svr_preds_copy]"
   ]
  },
  {
   "cell_type": "code",
   "execution_count": null,
   "metadata": {},
   "outputs": [],
   "source": [
    "names = ['cellanneal', 'Kassandra', 'SVR']"
   ]
  },
  {
   "cell_type": "code",
   "execution_count": null,
   "metadata": {},
   "outputs": [],
   "source": [
    "benchmark_rmse(df_list, cytof1, names)"
   ]
  },
  {
   "cell_type": "code",
   "execution_count": null,
   "metadata": {},
   "outputs": [],
   "source": [
    "benchmark_correlation(df_list, cytof1, names)"
   ]
  },
  {
   "cell_type": "code",
   "execution_count": null,
   "metadata": {},
   "outputs": [],
   "source": [
    "df_list2 = [ca_preds_copy2, k_preds2_100, svr_preds_copy2]"
   ]
  },
  {
   "cell_type": "code",
   "execution_count": null,
   "metadata": {},
   "outputs": [],
   "source": [
    "cytof2 = cytof2.fillna(0)"
   ]
  }
 ],
 "metadata": {
  "kernelspec": {
   "display_name": "celsius",
   "language": "python",
   "name": "python3"
  },
  "language_info": {
   "codemirror_mode": {
    "name": "ipython",
    "version": 3
   },
   "file_extension": ".py",
   "mimetype": "text/x-python",
   "name": "python",
   "nbconvert_exporter": "python",
   "pygments_lexer": "ipython3",
   "version": "3.9.0"
  },
  "orig_nbformat": 4,
  "vscode": {
   "interpreter": {
    "hash": "33e1196e746d4f84ed1e462556e8fb1ba1c950a7c5454532b0d8f0e1c852e6c8"
   }
  }
 },
 "nbformat": 4,
 "nbformat_minor": 2
}
